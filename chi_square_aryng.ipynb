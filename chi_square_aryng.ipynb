{
  "nbformat": 4,
  "nbformat_minor": 0,
  "metadata": {
    "colab": {
      "provenance": []
    },
    "kernelspec": {
      "name": "python3",
      "display_name": "Python 3"
    },
    "language_info": {
      "name": "python"
    }
  },
  "cells": [
    {
      "cell_type": "code",
      "execution_count": 5,
      "metadata": {
        "id": "41tMoeUP3DJG"
      },
      "outputs": [],
      "source": [
        "import numpy as np\n",
        "from scipy.stats import chi2_contingency"
      ]
    },
    {
      "cell_type": "markdown",
      "source": [
        "Set Up Hypotheses:\n",
        "\n",
        "Null Hypothesis (H0): There is no association between the marketing strategy and the purchase decision.\n",
        "\n",
        "Alternative Hypothesis (Ha): There is an association between the marketing strategy and the purchase decision."
      ],
      "metadata": {
        "id": "7ShDqyEL5bUc"
      }
    },
    {
      "cell_type": "code",
      "source": [
        "# Create a contingency table\n",
        "observed = np.array([[180, 820], [240, 960]])\n",
        "\n",
        "# Perform the chi-squared test\n",
        "chi2, p, dof, expected = chi2_contingency(observed)\n",
        "\n",
        "# Define the significance level (alpha)\n",
        "alpha = 0.05\n",
        "\n",
        "# Determine if the null hypothesis should be rejected"
      ],
      "metadata": {
        "id": "0yGvD6ND3WY6"
      },
      "execution_count": 3,
      "outputs": []
    },
    {
      "cell_type": "code",
      "source": [],
      "metadata": {
        "id": "hFt0H9Ok5Ykj"
      },
      "execution_count": null,
      "outputs": []
    },
    {
      "cell_type": "code",
      "source": [
        "if p < alpha:\n",
        "    print(f\"Chi-squared statistic: {chi2}\")\n",
        "    print(f\"P-value: {p}\")\n",
        "    print(\"Reject the null hypothesis. There is a significant association between marketing strategy and purchase decision.\")\n",
        "else:\n",
        "    print(f\"Chi-squared statistic: {chi2}\")\n",
        "    print(f\"P-value: {p}\")\n",
        "    print(\"Fail to reject the null hypothesis. There is no significant association between marketing strategy and purchase decision.\")"
      ],
      "metadata": {
        "colab": {
          "base_uri": "https://localhost:8080/"
        },
        "id": "Ov0k-N943aSp",
        "outputId": "9328e785-d4c9-413d-cbbc-75f62a27af81"
      },
      "execution_count": 4,
      "outputs": [
        {
          "output_type": "stream",
          "name": "stdout",
          "text": [
            "Chi-squared statistic: 1.2860063313714978\n",
            "P-value: 0.25678523940984654\n",
            "Fail to reject the null hypothesis. There is no significant association between marketing strategy and purchase decision.\n"
          ]
        }
      ]
    }
  ]
}